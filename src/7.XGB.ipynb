{
 "cells": [
  {
   "cell_type": "code",
   "execution_count": 1,
   "id": "00667962-152b-401c-92f1-d5bbadc26fba",
   "metadata": {},
   "outputs": [],
   "source": [
    "import pandas as pd\n",
    "import numpy as np\n",
    "import seaborn as sns\n",
    "import pickle\n",
    "from sklearn.model_selection import KFold\n",
    "from sklearn.ensemble import RandomForestClassifier\n",
    "from sklearn.compose import ColumnTransformer\n",
    "from sklearn.pipeline import Pipeline\n",
    "from sklearn.preprocessing import StandardScaler, OneHotEncoder, OrdinalEncoder, MinMaxScaler\n",
    "from sklearn.model_selection import train_test_split\n",
    "from sklearn.metrics import accuracy_score\n",
    "from sklearn.model_selection import GridSearchCV,RandomizedSearchCV\n",
    "from sklearn.metrics import roc_curve, auc, RocCurveDisplay\n",
    "from sklearn.metrics import confusion_matrix, classification_report\n",
    "from sklearn.metrics import precision_score, recall_score, f1_score\n",
    "from sklearn.metrics import plot_roc_curve\n",
    "import xgboost\n",
    "from matplotlib import pylab as plt\n",
    "from sklearn.pipeline import make_pipeline\n",
    "from sklearn.metrics import fbeta_score"
   ]
  },
  {
   "cell_type": "code",
   "execution_count": 2,
   "id": "8d663cf0-502b-416e-aea5-2dfd705e10d9",
   "metadata": {},
   "outputs": [],
   "source": [
    "df = pd.read_excel(r'C:\\Users\\ASUS Zephyrus G15\\DATA1030-Fall2021\\data 1030 project\\data\\전국상수도수질검사표준데이터.xls')"
   ]
  },
  {
   "cell_type": "code",
   "execution_count": 3,
   "id": "a2b8050a-1790-47f8-beb3-9d35366ff40d",
   "metadata": {},
   "outputs": [],
   "source": [
    "y = df['Potability']\n",
    "X = df.loc[:, df.columns != 'Potability']"
   ]
  },
  {
   "cell_type": "code",
   "execution_count": 7,
   "id": "39f6b51c-6194-45fb-b851-8803058ec4ea",
   "metadata": {},
   "outputs": [
    {
     "name": "stdout",
     "output_type": "stream",
     "text": [
      "Fitting 5 folds for each of 140 candidates, totalling 700 fits\n",
      "[13:55:48] WARNING: C:/Users/Administrator/workspace/xgboost-win64_release_1.5.1/src/learner.cc:1115: Starting in XGBoost 1.3.0, the default evaluation metric used with the objective 'binary:logistic' was changed from 'error' to 'logloss'. Explicitly set eval_metric if you'd like to restore the old behavior.\n",
      "best model parameters: {'xgbclassifier__gamma': 0.3, 'xgbclassifier__max_depth': 5, 'xgbclassifier__min_child_weight': 1}\n",
      "validation score: 0.8679395941481831\n",
      "test score: 0.8725490196078431\n",
      "test baseline =  0.571078431372549\n",
      "test accuracy: 0.17 +/- 0.35\n",
      "Fitting 5 folds for each of 140 candidates, totalling 700 fits\n",
      "[13:56:09] WARNING: C:/Users/Administrator/workspace/xgboost-win64_release_1.5.1/src/learner.cc:1115: Starting in XGBoost 1.3.0, the default evaluation metric used with the objective 'binary:logistic' was changed from 'error' to 'logloss'. Explicitly set eval_metric if you'd like to restore the old behavior.\n",
      "best model parameters: {'xgbclassifier__gamma': 0.1, 'xgbclassifier__max_depth': 10, 'xgbclassifier__min_child_weight': 1}\n",
      "validation score: 0.8771439358187825\n",
      "test score: 0.8799019607843137\n",
      "test baseline =  0.5833333333333334\n",
      "test accuracy: 0.35 +/- 0.43\n",
      "Fitting 5 folds for each of 140 candidates, totalling 700 fits\n",
      "[13:56:30] WARNING: C:/Users/Administrator/workspace/xgboost-win64_release_1.5.1/src/learner.cc:1115: Starting in XGBoost 1.3.0, the default evaluation metric used with the objective 'binary:logistic' was changed from 'error' to 'logloss'. Explicitly set eval_metric if you'd like to restore the old behavior.\n",
      "best model parameters: {'xgbclassifier__gamma': 0.4, 'xgbclassifier__max_depth': 10, 'xgbclassifier__min_child_weight': 1}\n",
      "validation score: 0.8605568664464369\n",
      "test score: 0.8995098039215687\n",
      "test baseline =  0.6200980392156863\n",
      "test accuracy: 0.53 +/- 0.43\n",
      "Fitting 5 folds for each of 140 candidates, totalling 700 fits\n",
      "[13:56:51] WARNING: C:/Users/Administrator/workspace/xgboost-win64_release_1.5.1/src/learner.cc:1115: Starting in XGBoost 1.3.0, the default evaluation metric used with the objective 'binary:logistic' was changed from 'error' to 'logloss'. Explicitly set eval_metric if you'd like to restore the old behavior.\n",
      "best model parameters: {'xgbclassifier__gamma': 0.2, 'xgbclassifier__max_depth': 10, 'xgbclassifier__min_child_weight': 1}\n",
      "validation score: 0.880230297310052\n",
      "test score: 0.8799019607843137\n",
      "test baseline =  0.5906862745098039\n",
      "test accuracy: 0.71 +/- 0.35\n",
      "Fitting 5 folds for each of 140 candidates, totalling 700 fits\n",
      "[13:57:13] WARNING: C:/Users/Administrator/workspace/xgboost-win64_release_1.5.1/src/learner.cc:1115: Starting in XGBoost 1.3.0, the default evaluation metric used with the objective 'binary:logistic' was changed from 'error' to 'logloss'. Explicitly set eval_metric if you'd like to restore the old behavior.\n",
      "best model parameters: {'xgbclassifier__gamma': 0.1, 'xgbclassifier__max_depth': 30, 'xgbclassifier__min_child_weight': 1}\n",
      "validation score: 0.8716356772062295\n",
      "test score: 0.8799019607843137\n",
      "test baseline =  0.6200980392156863\n",
      "test accuracy: 0.88 +/- 0.01\n"
     ]
    }
   ],
   "source": [
    "std_ftrs = ['general_bacteria','lead','fluoride','arsenic','selenium','ammonia-like_nitrogen',\n",
    "            'nitrogen_nitrate','cadmium','phenol','diazinone','carbaryl','1_1_1-trichloroethane','tetrachloroethylene','trichloroethylene',\n",
    "            'carbon_tetrachloride','1_1-dichloroethylene','dichloromethane','toluene','Xylene','1_2-dibromo-3-chloropropane','1_4-dioxane.','residual_goat',\n",
    "            'total_trihalomethane','chloroform','bromodichloromethane','chloral_hydrate','dibromoacetonitrile','dichloroacetonitrile','trichloroacetonitrile',\n",
    "            'haloacetic_seed','formaldehyde','Bronze','chromaticity','detergent','pH','zinc','chloride_ion','Fe','Mn',\n",
    "            'turbidity','sulfate_ion','potasium_permanganate_consumption','aluminum']\n",
    "\n",
    "preprocessor = ColumnTransformer(transformers=[('std', StandardScaler(), std_ftrs)])\n",
    "\n",
    "param_grid = {\"xgbclassifier__max_depth\"        : [ 1, 3, 5, 10, 30, 50, 100],\n",
    "              \"xgbclassifier__min_child_weight\" : [ 1, 3, 5, 7 ],\n",
    "              \"xgbclassifier__gamma\"            : [ 0.0, 0.1, 0.2 , 0.3, 0.4 ]\n",
    "             }\n",
    "test_scores = np.zeros(5)\n",
    "final_models = []\n",
    "\n",
    "for i in range(5):\n",
    "    X_other, X_test, y_other, y_test = train_test_split(X,y,test_size = 0.2,random_state=47*i)\n",
    "\n",
    "    # splitter for other\n",
    "    kf = KFold(n_splits=5,shuffle=True,random_state=47*i)\n",
    "\n",
    "    # the classifier\n",
    "    clf = xgboost.XGBClassifier(use_label_encoder=False,n_estimators=100, \n",
    "                             learning_rate=0.2,subsample=0.66, nthread=1)# initialize the classifier\n",
    "    pipe = make_pipeline(preprocessor,clf)\n",
    "\n",
    "    # prepare the gridsearch it will loops through all parameter combinations and collects the results \n",
    "    grid = GridSearchCV(pipe, param_grid=param_grid,scoring = 'accuracy',\n",
    "                        cv=kf, return_train_score = True, n_jobs=-1, verbose=True)\n",
    "    \n",
    "     # fits the model on other\n",
    "    grid.fit(X_other, y_other)\n",
    "    \n",
    "    # save results into a data frame.\n",
    "    results = pd.DataFrame(grid.cv_results_)\n",
    "    #print(results)\n",
    "\n",
    "    print('best model parameters:',grid.best_params_)\n",
    "    print('validation score:',grid.best_score_) # this is the mean validation score over all iterations\n",
    "    # save the model\n",
    "    final_models.append(grid)\n",
    "    \n",
    "    # print out and save the test score, baseline accuracy, std \n",
    "    y_test_pred = final_models[-1].predict(X_test)\n",
    "    test_scores[i] = accuracy_score(y_test,y_test_pred)\n",
    "    print('test score:',test_scores[i])\n",
    "    print('test baseline = ',np.sum(y_test == 1)/len(y_test))\n",
    "    print('test accuracy:',np.around(np.mean(test_scores),2),'+/-',np.around(np.std(test_scores),2))\n",
    "    \n",
    "    # save the files\n",
    "    fname = r'C:\\Users\\ASUS Zephyrus G15\\DATA1030-Fall2021\\data 1030 project\\results\\XGB'+str(i)+'.lasso'\n",
    "    file = open(fname, 'wb')\n",
    "    pickle.dump((grid,X_test,y_test),file)\n",
    "    file.close()"
   ]
  },
  {
   "cell_type": "markdown",
   "id": "b2dc4959-02ed-4fef-8007-a73be9c9f3c7",
   "metadata": {},
   "source": [
    "### Create Confusion Martix and ROC curve"
   ]
  },
  {
   "cell_type": "code",
   "execution_count": 8,
   "id": "a37d855f-1314-49c4-b34e-2d666433835f",
   "metadata": {},
   "outputs": [
    {
     "name": "stdout",
     "output_type": "stream",
     "text": [
      "[[130  25]\n",
      " [ 24 229]]\n"
     ]
    }
   ],
   "source": [
    "y_true = y_test\n",
    "y_preds = y_preds = grid.predict(X_test)\n",
    "                                         \n",
    "print(confusion_matrix(y_true,y_preds))"
   ]
  },
  {
   "cell_type": "code",
   "execution_count": 9,
   "id": "d153c865-d7bc-4ad0-aaea-252c1f1fd678",
   "metadata": {},
   "outputs": [
    {
     "data": {
      "image/png": "[encoded data removed]",
      "text/plain": [
       "<Figure size 432x288 with 1 Axes>"
      ]
     },
     "metadata": {
      "needs_background": "light"
     },
     "output_type": "display_data"
    }
   ],
   "source": [
    "roc = plot_roc_curve(grid, X_test, y_test);\n",
    "plt.savefig(r'C:\\Users\\ASUS Zephyrus G15\\DATA1030-Fall2021\\data 1030 project\\figures\\XGB_ROC_curve.png',dpi = 300)"
   ]
  },
  {
   "cell_type": "code",
   "execution_count": 7,
   "id": "8ad8123b-2985-48e0-886b-ec8031cc1691",
   "metadata": {},
   "outputs": [],
   "source": [
    "from sklearn.utils.multiclass import unique_labels\n",
    "\n",
    "def plot_confusion_matrix(y_true, y_pred, classes,\n",
    "                          normalize=True,\n",
    "                          title=None,\n",
    "                          cmap=plt.cm.Blues):\n",
    "    \"\"\"\n",
    "    This function prints and plots the confusion matrix.\n",
    "    Normalization can be applied by setting `normalize=True`.\n",
    "    \"\"\"\n",
    "    if not title:\n",
    "        if normalize:\n",
    "            title = 'Normalized confusion matrix'\n",
    "        else:\n",
    "            title = 'Confusion matrix, without normalization'\n",
    "\n",
    "    # Compute confusion matrix\n",
    "    cm = confusion_matrix(y_true, y_pred)\n",
    "    # Only use the labels that appear in the data\n",
    "    classes = np.array(classes)\n",
    "    #classes = classes[unique_labels(y_true, y_pred)]\n",
    "    if normalize:\n",
    "        cm = cm.astype('float') / cm.sum(axis=1)[:, np.newaxis]\n",
    "        \n",
    "    fig, ax = plt.subplots()\n",
    "    im = ax.imshow(cm, interpolation='nearest', cmap=cmap)\n",
    "    ax.figure.colorbar(im, ax=ax)\n",
    "    # We want to show all ticks...\n",
    "    ax.set(xticks=np.arange(cm.shape[1]),\n",
    "           yticks=np.arange(cm.shape[0]),\n",
    "           # ... and label them with the respective list entries\n",
    "           xticklabels=classes, yticklabels=classes,\n",
    "           title=title,\n",
    "           ylabel='True label',\n",
    "           xlabel='Predicted label')\n",
    "\n",
    "    # Rotate the tick labels and set their alignment.\n",
    "    plt.setp(ax.get_xticklabels(), rotation=45, ha=\"right\",\n",
    "             rotation_mode=\"anchor\")\n",
    "\n",
    "    # Loop over data dimensions and create text annotations.\n",
    "    fmt = '.2f' if normalize else 'd'\n",
    "    thresh = cm.max() / 2.\n",
    "    for i in range(cm.shape[0]):\n",
    "        for j in range(cm.shape[1]):\n",
    "            ax.text(j, i, format(cm[i, j], fmt),\n",
    "                    ha=\"center\", va=\"center\",\n",
    "                    color=\"white\" if cm[i, j] > thresh else \"black\")\n",
    "    fig.tight_layout()\n",
    "    return ax"
   ]
  },
  {
   "cell_type": "code",
   "execution_count": 8,
   "id": "b3e06b0a-12fd-4cdc-b4f4-e65ae1ae77ee",
   "metadata": {},
   "outputs": [
    {
     "data": {
      "image/png": "[encoded data removed]",
      "text/plain": [
       "<Figure size 432x288 with 2 Axes>"
      ]
     },
     "metadata": {
      "needs_background": "light"
     },
     "output_type": "display_data"
    }
   ],
   "source": [
    "plot_confusion_matrix(y_true,y_preds,classes=['potable','Not potable'])\n",
    "plt.tight_layout()\n",
    "plt.savefig(r'C:\\Users\\ASUS Zephyrus G15\\DATA1030-Fall2021\\data 1030 project\\figures\\XGB_Confusion_matrix',dpi = 300)\n",
    "plt.show()"
   ]
  },
  {
   "cell_type": "code",
   "execution_count": 9,
   "id": "bb82630e-f4e3-4988-a289-ac4fb1fe0715",
   "metadata": {},
   "outputs": [
    {
     "name": "stdout",
     "output_type": "stream",
     "text": [
      "              precision    recall  f1-score   support\n",
      "\n",
      "           0       0.84      0.84      0.84       155\n",
      "           1       0.90      0.91      0.90       253\n",
      "\n",
      "    accuracy                           0.88       408\n",
      "   macro avg       0.87      0.87      0.87       408\n",
      "weighted avg       0.88      0.88      0.88       408\n",
      "\n"
     ]
    }
   ],
   "source": [
    "print(classification_report(y_test, y_preds))"
   ]
  },
  {
   "cell_type": "markdown",
   "id": "4021220a-648c-4eeb-b14e-36835152de84",
   "metadata": {},
   "source": [
    "### Semi AutoML version of Parameter tunning did not worked properly"
   ]
  },
  {
   "cell_type": "code",
   "execution_count": 4,
   "id": "d774f870-2286-4766-a6d7-558257de98f0",
   "metadata": {},
   "outputs": [],
   "source": [
    "from luciferml.supervised.classification import Classification\n",
    "from luciferml.preprocessing import Preprocess as prep"
   ]
  },
  {
   "cell_type": "code",
   "execution_count": 5,
   "id": "52d437eb-84ea-4075-a050-398e5b51c44e",
   "metadata": {},
   "outputs": [],
   "source": [
    "accuracy_scores = {}"
   ]
  },
  {
   "cell_type": "code",
   "execution_count": 6,
   "id": "e1d1b830-3453-4ac0-b792-e4589add7127",
   "metadata": {},
   "outputs": [
    {
     "name": "stdout",
     "output_type": "stream",
     "text": [
      "\n",
      "          \n",
      "██╗░░░░░██╗░░░██╗░█████╗░██╗███████╗███████╗██████╗░░░░░░░███╗░░░███╗██╗░░░░░\n",
      "██║░░░░░██║░░░██║██╔══██╗██║██╔════╝██╔════╝██╔══██╗░░░░░░████╗░████║██║░░░░░\n",
      "██║░░░░░██║░░░██║██║░░╚═╝██║█████╗░░█████╗░░██████╔╝█████╗██╔████╔██║██║░░░░░\n",
      "██║░░░░░██║░░░██║██║░░██╗██║██╔══╝░░██╔══╝░░██╔══██╗╚════╝██║╚██╔╝██║██║░░░░░\n",
      "███████╗╚██████╔╝╚█████╔╝██║██║░░░░░███████╗██║░░██║░░░░░░██║░╚═╝░██║███████╗\n",
      "╚══════╝░╚═════╝░░╚════╝░╚═╝╚═╝░░░░░╚══════╝╚═╝░░╚═╝░░░░░░╚═╝░░░░░╚═╝╚══════╝\n",
      "\n",
      "Started LuciferML \n",
      "\n",
      "Checking if labels or features are categorical! [*]\n",
      "\n",
      "Features are not categorical [ ✓ ]\n",
      "\n",
      "Labels are not categorical [ ✓ ]\n",
      "\n",
      "Checking for Categorical Variables Done [ ✓ ]\n",
      "\n",
      "Checking for Sparse Matrix [*]\n",
      "\n",
      "Checking for Sparse Matrix Done [ ✓ ]\n",
      "\n",
      "Applying SMOTE [*]\n",
      "\n",
      "SMOTE Done [ ✓ ]\n",
      "\n",
      "Splitting Data into Train and Validation Sets [*]\n",
      "\n",
      "Splitting Done [ ✓ ]\n",
      "\n",
      "Scaling Training and Test Sets [*]\n",
      "\n",
      "Scaling Done [ ✓ ]\n",
      "\n",
      "Training XGBClassifier on Training Set [*]\n",
      "\n"
     ]
    },
    {
     "name": "stderr",
     "output_type": "stream",
     "text": [
      "C:\\Anaconda\\envs\\data1030\\lib\\site-packages\\xgboost\\sklearn.py:1224: UserWarning: The use of label encoder in XGBClassifier is deprecated and will be removed in a future release. To remove this warning, do the following: 1) Pass option use_label_encoder=False when constructing XGBClassifier object; and 2) Encode your labels (y) as integers starting with 0, i.e. 0, 1, 2, ..., [num_class - 1].\n",
      "  warnings.warn(label_encoder_deprecation_msg, UserWarning)\n"
     ]
    },
    {
     "name": "stdout",
     "output_type": "stream",
     "text": [
      "Model Training Done [ ✓ ]\n",
      "\n",
      "Predicting Data [*]\n",
      "\n",
      "Data Prediction Done [ ✓ ]\n",
      "\n",
      "Making Confusion Matrix [*]\n"
     ]
    },
    {
     "data": {
      "image/png": "[encoded data removed]",
      "text/plain": [
       "<Figure size 432x288 with 2 Axes>"
      ]
     },
     "metadata": {
      "needs_background": "light"
     },
     "output_type": "display_data"
    },
    {
     "name": "stdout",
     "output_type": "stream",
     "text": [
      "Confusion Matrix Done [ ✓ ]\n",
      "\n",
      "Evaluating Model Performance [*]\n",
      "Validation Accuracy is : 0.8879837067209776\n",
      "Evaluating Model Performance [ ✓ ]\n",
      "\n",
      "Applying K-Fold Cross Validation [*]\n"
     ]
    },
    {
     "name": "stderr",
     "output_type": "stream",
     "text": [
      "C:\\Anaconda\\envs\\data1030\\lib\\site-packages\\xgboost\\sklearn.py:1224: UserWarning: The use of label encoder in XGBClassifier is deprecated and will be removed in a future release. To remove this warning, do the following: 1) Pass option use_label_encoder=False when constructing XGBClassifier object; and 2) Encode your labels (y) as integers starting with 0, i.e. 0, 1, 2, ..., [num_class - 1].\n",
      "  warnings.warn(label_encoder_deprecation_msg, UserWarning)\n",
      "C:\\Anaconda\\envs\\data1030\\lib\\site-packages\\xgboost\\sklearn.py:1224: UserWarning: The use of label encoder in XGBClassifier is deprecated and will be removed in a future release. To remove this warning, do the following: 1) Pass option use_label_encoder=False when constructing XGBClassifier object; and 2) Encode your labels (y) as integers starting with 0, i.e. 0, 1, 2, ..., [num_class - 1].\n",
      "  warnings.warn(label_encoder_deprecation_msg, UserWarning)\n",
      "C:\\Anaconda\\envs\\data1030\\lib\\site-packages\\xgboost\\sklearn.py:1224: UserWarning: The use of label encoder in XGBClassifier is deprecated and will be removed in a future release. To remove this warning, do the following: 1) Pass option use_label_encoder=False when constructing XGBClassifier object; and 2) Encode your labels (y) as integers starting with 0, i.e. 0, 1, 2, ..., [num_class - 1].\n",
      "  warnings.warn(label_encoder_deprecation_msg, UserWarning)\n",
      "C:\\Anaconda\\envs\\data1030\\lib\\site-packages\\xgboost\\sklearn.py:1224: UserWarning: The use of label encoder in XGBClassifier is deprecated and will be removed in a future release. To remove this warning, do the following: 1) Pass option use_label_encoder=False when constructing XGBClassifier object; and 2) Encode your labels (y) as integers starting with 0, i.e. 0, 1, 2, ..., [num_class - 1].\n",
      "  warnings.warn(label_encoder_deprecation_msg, UserWarning)\n",
      "C:\\Anaconda\\envs\\data1030\\lib\\site-packages\\xgboost\\sklearn.py:1224: UserWarning: The use of label encoder in XGBClassifier is deprecated and will be removed in a future release. To remove this warning, do the following: 1) Pass option use_label_encoder=False when constructing XGBClassifier object; and 2) Encode your labels (y) as integers starting with 0, i.e. 0, 1, 2, ..., [num_class - 1].\n",
      "  warnings.warn(label_encoder_deprecation_msg, UserWarning)\n",
      "C:\\Anaconda\\envs\\data1030\\lib\\site-packages\\xgboost\\sklearn.py:1224: UserWarning: The use of label encoder in XGBClassifier is deprecated and will be removed in a future release. To remove this warning, do the following: 1) Pass option use_label_encoder=False when constructing XGBClassifier object; and 2) Encode your labels (y) as integers starting with 0, i.e. 0, 1, 2, ..., [num_class - 1].\n",
      "  warnings.warn(label_encoder_deprecation_msg, UserWarning)\n",
      "C:\\Anaconda\\envs\\data1030\\lib\\site-packages\\xgboost\\sklearn.py:1224: UserWarning: The use of label encoder in XGBClassifier is deprecated and will be removed in a future release. To remove this warning, do the following: 1) Pass option use_label_encoder=False when constructing XGBClassifier object; and 2) Encode your labels (y) as integers starting with 0, i.e. 0, 1, 2, ..., [num_class - 1].\n",
      "  warnings.warn(label_encoder_deprecation_msg, UserWarning)\n",
      "C:\\Anaconda\\envs\\data1030\\lib\\site-packages\\xgboost\\sklearn.py:1224: UserWarning: The use of label encoder in XGBClassifier is deprecated and will be removed in a future release. To remove this warning, do the following: 1) Pass option use_label_encoder=False when constructing XGBClassifier object; and 2) Encode your labels (y) as integers starting with 0, i.e. 0, 1, 2, ..., [num_class - 1].\n",
      "  warnings.warn(label_encoder_deprecation_msg, UserWarning)\n",
      "C:\\Anaconda\\envs\\data1030\\lib\\site-packages\\xgboost\\sklearn.py:1224: UserWarning: The use of label encoder in XGBClassifier is deprecated and will be removed in a future release. To remove this warning, do the following: 1) Pass option use_label_encoder=False when constructing XGBClassifier object; and 2) Encode your labels (y) as integers starting with 0, i.e. 0, 1, 2, ..., [num_class - 1].\n",
      "  warnings.warn(label_encoder_deprecation_msg, UserWarning)\n",
      "C:\\Anaconda\\envs\\data1030\\lib\\site-packages\\xgboost\\sklearn.py:1224: UserWarning: The use of label encoder in XGBClassifier is deprecated and will be removed in a future release. To remove this warning, do the following: 1) Pass option use_label_encoder=False when constructing XGBClassifier object; and 2) Encode your labels (y) as integers starting with 0, i.e. 0, 1, 2, ..., [num_class - 1].\n",
      "  warnings.warn(label_encoder_deprecation_msg, UserWarning)\n"
     ]
    },
    {
     "name": "stdout",
     "output_type": "stream",
     "text": [
      "Accuracy: 90.92 %\n",
      "Standard Deviation: 2.29 %\n",
      "K-Fold Cross Validation [ ✓ ]\n",
      "\n",
      "Complete [ ✓ ]\n",
      "\n",
      "Time Elapsed :  8.934941053390503 seconds \n",
      "\n"
     ]
    }
   ],
   "source": [
    "params = {'learning_rate':0.02, 'n_estimators':600, 'objective':'binary:logistic', 'eval_metric':'logloss', 'nthread':-1}\n",
    "classifier =  Classification(predictor = 'xgb',params=params, smote = 'y')\n",
    "classifier.fit(X, y)\n",
    "result = classifier.result()\n",
    "accuracy_scores[result['Classifier']] = result['Accuracy']"
   ]
  },
  {
   "cell_type": "code",
   "execution_count": 9,
   "id": "81b8ed9b-c3ef-4612-9d07-218bb635912a",
   "metadata": {},
   "outputs": [
    {
     "data": {
      "text/plain": [
       "{}"
      ]
     },
     "execution_count": 9,
     "metadata": {},
     "output_type": "execute_result"
    }
   ],
   "source": [
    "accuracy_scores"
   ]
  },
  {
   "cell_type": "code",
   "execution_count": 5,
   "id": "7d46ba82-fe60-4b49-b13e-931f3b6b048c",
   "metadata": {},
   "outputs": [],
   "source": [
    "def get_mean_std_xgb(score):\n",
    "    array1 = [score[i] for i in range(0, len(score), 6)]\n",
    "    array2 = [score[i] for i in range(1, len(score), 6)]\n",
    "    array3 = [score[i] for i in range(2, len(score), 6)]\n",
    "    array4 = [score[i] for i in range(3, len(score), 6)]\n",
    "\n",
    "    mean_list=[np.mean(array1),np.mean(array2), np.mean(array3), np.mean(array4)]\n",
    "    std_list=[np.std(array1),np.std(array2), np.std(array3), np.std(array4)]\n",
    "\n",
    "    return  mean_list, std_list "
   ]
  },
  {
   "cell_type": "code",
   "execution_count": 6,
   "id": "58de87ec-7333-4b57-8b79-c66d617aa223",
   "metadata": {},
   "outputs": [
    {
     "ename": "NameError",
     "evalue": "name 'xgbtrain_scr' is not defined",
     "output_type": "error",
     "traceback": [
      "\u001b[1;31m---------------------------------------------------------------------------\u001b[0m",
      "\u001b[1;31mNameError\u001b[0m                                 Traceback (most recent call last)",
      "\u001b[1;32mC:\\Users\\ASUSZE~1\\AppData\\Local\\Temp/ipykernel_23276/3702524883.py\u001b[0m in \u001b[0;36m<module>\u001b[1;34m\u001b[0m\n\u001b[1;32m----> 1\u001b[1;33m \u001b[0mtr_mean\u001b[0m\u001b[1;33m,\u001b[0m \u001b[0mtr_std\u001b[0m\u001b[1;33m=\u001b[0m\u001b[0mget_mean_std_xgb\u001b[0m\u001b[1;33m(\u001b[0m\u001b[0mxgbtrain_scr\u001b[0m\u001b[1;33m)\u001b[0m\u001b[1;33m\u001b[0m\u001b[1;33m\u001b[0m\u001b[0m\n\u001b[0m\u001b[0;32m      2\u001b[0m \u001b[0mval_mean\u001b[0m\u001b[1;33m,\u001b[0m \u001b[0mval_std\u001b[0m\u001b[1;33m=\u001b[0m\u001b[0mget_mean_std_xgb\u001b[0m\u001b[1;33m(\u001b[0m\u001b[0mxgbval_scr\u001b[0m\u001b[1;33m)\u001b[0m\u001b[1;33m\u001b[0m\u001b[1;33m\u001b[0m\u001b[0m\n\u001b[0;32m      3\u001b[0m \u001b[0mtest_mean\u001b[0m\u001b[1;33m,\u001b[0m \u001b[0mtest_std\u001b[0m\u001b[1;33m=\u001b[0m\u001b[0mget_mean_std_xgb\u001b[0m\u001b[1;33m(\u001b[0m\u001b[0mxgbtest_scr\u001b[0m\u001b[1;33m)\u001b[0m\u001b[1;33m\u001b[0m\u001b[1;33m\u001b[0m\u001b[0m\n\u001b[0;32m      4\u001b[0m \u001b[1;33m\u001b[0m\u001b[0m\n\u001b[0;32m      5\u001b[0m \u001b[0mxgb_depth\u001b[0m\u001b[1;33m=\u001b[0m\u001b[0mpd\u001b[0m\u001b[1;33m.\u001b[0m\u001b[0mSeries\u001b[0m\u001b[1;33m(\u001b[0m\u001b[1;33m[\u001b[0m\u001b[1;34m\"3\"\u001b[0m\u001b[1;33m,\u001b[0m\u001b[1;34m\"6\"\u001b[0m\u001b[1;33m,\u001b[0m\u001b[1;34m\"10\"\u001b[0m\u001b[1;33m,\u001b[0m\u001b[1;34m\"20\"\u001b[0m\u001b[1;33m]\u001b[0m\u001b[1;33m)\u001b[0m\u001b[1;33m\u001b[0m\u001b[1;33m\u001b[0m\u001b[0m\n",
      "\u001b[1;31mNameError\u001b[0m: name 'xgbtrain_scr' is not defined"
     ]
    }
   ],
   "source": [
    "tr_mean, tr_std=get_mean_std_xgb(xgbtrain_scr)\n",
    "val_mean, val_std=get_mean_std_xgb(xgbval_scr)\n",
    "test_mean, test_std=get_mean_std_xgb(xgbtest_scr)\n",
    "\n",
    "xgb_depth=pd.Series([\"3\",\"6\",\"10\",\"20\"])\n",
    "\n",
    "xgbdf = pd.DataFrame({\"mean\":tr_mean+val_mean+test_mean,\n",
    "                   \"stderr\":tr_std+val_std+test_std,\n",
    "                   \"group\":np.repeat(['train score','validation score','test score'],4)})\n",
    "xgbdf"
   ]
  },
  {
   "cell_type": "code",
   "execution_count": null,
   "id": "8b922d47-3eb5-45ff-ac32-ba2d5450310a",
   "metadata": {},
   "outputs": [],
   "source": []
  }
 ],
 "metadata": {
  "kernelspec": {
   "display_name": "Python 3 (ipykernel)",
   "language": "python",
   "name": "python3"
  },
  "language_info": {
   "codemirror_mode": {
    "name": "ipython",
    "version": 3
   },
   "file_extension": ".py",
   "mimetype": "text/x-python",
   "name": "python",
   "nbconvert_exporter": "python",
   "pygments_lexer": "ipython3",
   "version": "3.9.7"
  }
 },
 "nbformat": 4,
 "nbformat_minor": 5
}
