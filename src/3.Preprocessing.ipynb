{
 "cells": [
  {
   "cell_type": "markdown",
   "id": "035ccd3b-29be-4e68-8837-97f4523a8db7",
   "metadata": {},
   "source": [
    "### 3.Preprocessing the data\n"
   ]
  },
  {
   "cell_type": "markdown",
   "id": "56a7f75d-cc97-452c-88a1-cdd63502a94e",
   "metadata": {},
   "source": [
    "#### First find the data points that has NA values"
   ]
  },
  {
   "cell_type": "code",
   "execution_count": 1,
   "id": "5344f546-9856-4ffc-acab-bd967cb8b859",
   "metadata": {},
   "outputs": [],
   "source": [
    "import pandas as pd\n",
    "import numpy as np\n",
    "import matplotlib.pyplot as plt\n",
    "from sklearn.compose import ColumnTransformer\n",
    "from sklearn.pipeline import Pipeline\n",
    "from sklearn.preprocessing import StandardScaler, OneHotEncoder, OrdinalEncoder, MinMaxScaler\n",
    "from sklearn.model_selection import train_test_split\n",
    "from sklearn.model_selection import KFold\n",
    "from sklearn.linear_model import LogisticRegression\n",
    "from sklearn.ensemble import RandomForestClassifier\n",
    "from sklearn.svm import SVC\n",
    "from xgboost import XGBClassifier\n",
    "from sklearn.metrics import precision_score, accuracy_score, mean_absolute_error, mean_squared_error\n",
    "from luciferml.supervised.classification import Classification\n",
    "from luciferml.preprocessing import Preprocess as prep\n",
    "import seaborn as sns"
   ]
  },
  {
   "cell_type": "code",
   "execution_count": 2,
   "id": "dee66a2b-c2bd-4f26-93fd-09fe9c45e2ca",
   "metadata": {},
   "outputs": [],
   "source": [
    "df = pd.read_excel(r'C:\\Users\\ASUS Zephyrus G15\\DATA1030-Fall2021\\data 1030 project\\data\\전국상수도수질검사표준데이터.xls')"
   ]
  },
  {
   "cell_type": "code",
   "execution_count": 3,
   "id": "cbc77f71-9bfb-4284-9a60-b5bd887162a8",
   "metadata": {},
   "outputs": [],
   "source": [
    "df.to_parquet(r'C:\\Users\\ASUS Zephyrus G15\\DATA1030-Fall2021\\data 1030 project\\data\\before_split.parquet')"
   ]
  },
  {
   "cell_type": "code",
   "execution_count": 4,
   "id": "0ac72286-6c5e-4539-ba51-7ecce9547c32",
   "metadata": {},
   "outputs": [
    {
     "data": {
      "text/plain": [
       "Potability                           0\n",
       "general_bacteria                     0\n",
       "lead                                 0\n",
       "fluoride                             0\n",
       "arsenic                              0\n",
       "selenium                             0\n",
       "ammonia-like_nitrogen                0\n",
       "nitrogen_nitrate                     0\n",
       "cadmium                              0\n",
       "phenol                               0\n",
       "diazinone                            0\n",
       "carbaryl                             0\n",
       "1_1_1-trichloroethane                0\n",
       "tetrachloroethylene                  0\n",
       "trichloroethylene                    0\n",
       "carbon_tetrachloride                 0\n",
       "1_1-dichloroethylene                 0\n",
       "dichloromethane                      0\n",
       "toluene                              0\n",
       "Xylene                               0\n",
       "1_2-dibromo-3-chloropropane          0\n",
       "1_4-dioxane.                         0\n",
       "residual_goat                        0\n",
       "total_trihalomethane                 0\n",
       "chloroform                           0\n",
       "bromodichloromethane                 0\n",
       "chloral_hydrate                      0\n",
       "dibromoacetonitrile                  0\n",
       "dichloroacetonitrile                 0\n",
       "trichloroacetonitrile                0\n",
       "haloacetic_seed                      0\n",
       "formaldehyde                         0\n",
       "potasium_permanganate_consumption    0\n",
       "Bronze                               0\n",
       "chromaticity                         0\n",
       "detergent                            0\n",
       "pH                                   0\n",
       "zinc                                 0\n",
       "chloride_ion                         0\n",
       "Fe                                   0\n",
       "Mn                                   0\n",
       "turbidity                            0\n",
       "sulfate_ion                          0\n",
       "aluminum                             0\n",
       "dtype: int64"
      ]
     },
     "execution_count": 4,
     "metadata": {},
     "output_type": "execute_result"
    }
   ],
   "source": [
    "df.isnull().sum()"
   ]
  },
  {
   "cell_type": "code",
   "execution_count": 3,
   "id": "e1a32e3c-1ccd-4821-a8e6-46cda9e53257",
   "metadata": {},
   "outputs": [],
   "source": [
    "y = df['Potability'] # target vairalbe \n",
    "X = df.loc[:, df.columns != 'Potability'] # all other columns except target variable"
   ]
  },
  {
   "cell_type": "markdown",
   "id": "aa2ed20f-d99a-4638-add6-ce6fa1cfd3bd",
   "metadata": {},
   "source": [
    "### define encoders and split the data set"
   ]
  },
  {
   "cell_type": "code",
   "execution_count": 21,
   "id": "fcfed1d3-1a7f-4e49-8f78-6c845f2acb84",
   "metadata": {},
   "outputs": [],
   "source": [
    "std_ftrs = ['general_bacteria','lead','fluoride','arsenic','selenium','ammonia-like_nitrogen',\n",
    "           'nitrogen_nitrate','cadmium','phenol','diazinone','carbaryl','1_1_1-trichloroethane','tetrachloroethylene','trichloroethylene',\n",
    "           'carbon_tetrachloride','1_1-dichloroethylene','dichloromethane','toluene','Xylene','1_2-dibromo-3-chloropropane','1_4-dioxane.','residual_goat',\n",
    "           'total_trihalomethane','chloroform','bromodichloromethane','chloral_hydrate','dibromoacetonitrile','dichloroacetonitrile','trichloroacetonitrile',\n",
    "           'haloacetic_seed','formaldehyde','Bronze','chromaticity','detergent','pH','zinc','chloride_ion','Fe','Mn',\n",
    "           'turbidity','sulfate_ion','potasium_permanganate_consumption','aluminum']\n",
    "\n",
    "X_other, X_test, y_other, y_test = train_test_split(X,y,test_size = 0.2,random_state=47)\n",
    "kf = KFold(n_splits=5,shuffle=True,random_state=47)\n",
    "\n",
    "preprocessor = ColumnTransformer(\n",
    "    transformers=[\n",
    "        ('std', StandardScaler(), std_ftrs)])\n",
    "\n",
    "clf = Pipeline(steps=[('preprocessor', preprocessor)]) \n",
    "\n",
    "X_other_prep = clf.fit_transform(X_other)\n",
    "X_test_prep = clf.transform(X_test)"
   ]
  },
  {
   "cell_type": "code",
   "execution_count": 23,
   "id": "6ff77973-7c89-4d98-b9e4-ed5aa3eab04a",
   "metadata": {},
   "outputs": [
    {
     "name": "stdout",
     "output_type": "stream",
     "text": [
      "   training set: (1302, 43) (1302,)\n",
      "   validation set: (326, 43) (326,)\n",
      "   training set: (1302, 43) (1302,)\n",
      "   validation set: (326, 43) (326,)\n",
      "   training set: (1302, 43) (1302,)\n",
      "   validation set: (326, 43) (326,)\n",
      "   training set: (1303, 43) (1303,)\n",
      "   validation set: (325, 43) (325,)\n",
      "   training set: (1303, 43) (1303,)\n",
      "   validation set: (325, 43) (325,)\n"
     ]
    }
   ],
   "source": [
    "for train_index, val_index in kf.split(X_other,y_other):\n",
    "    X_train = X_other.iloc[train_index]\n",
    "    y_train = y_other.iloc[train_index]\n",
    "    X_val = X_other.iloc[val_index]\n",
    "    y_val = y_other.iloc[val_index]\n",
    "    print('   training set:',X_train.shape, y_train.shape) \n",
    "    print('   validation set:',X_val.shape, y_val.shape) "
   ]
  },
  {
   "cell_type": "markdown",
   "id": "b6be3b07-f5f4-4019-91d8-aec22f85ec32",
   "metadata": {},
   "source": [
    "### Saving the preprocessed data"
   ]
  },
  {
   "cell_type": "code",
   "execution_count": 25,
   "id": "fa863a0d-3362-4e13-9de0-a8b70d5f2ee2",
   "metadata": {},
   "outputs": [
    {
     "name": "stderr",
     "output_type": "stream",
     "text": [
      "C:\\Users\\ASUSZE~1\\AppData\\Local\\Temp/ipykernel_44848/1756234085.py:5: FutureWarning: As the xlwt package is no longer maintained, the xlwt engine will be removed in a future version of pandas. This is the only engine in pandas that supports writing in the xls format. Install openpyxl and write to an xlsx file instead. You can set the option io.excel.xls.writer to 'xlwt' to silence this warning. While this option is deprecated and will also raise a warning, it can be globally set and the warning suppressed.\n",
      "  df_train.to_excel(r'C:\\Users\\ASUS Zephyrus G15\\DATA1030-Fall2021\\data 1030 project\\data\\prep_train.xls')\n",
      "C:\\Users\\ASUSZE~1\\AppData\\Local\\Temp/ipykernel_44848/1756234085.py:6: FutureWarning: As the xlwt package is no longer maintained, the xlwt engine will be removed in a future version of pandas. This is the only engine in pandas that supports writing in the xls format. Install openpyxl and write to an xlsx file instead. You can set the option io.excel.xls.writer to 'xlwt' to silence this warning. While this option is deprecated and will also raise a warning, it can be globally set and the warning suppressed.\n",
      "  df_val.to_excel(r'C:\\Users\\ASUS Zephyrus G15\\DATA1030-Fall2021\\data 1030 project\\data/prep_val.xls')\n"
     ]
    }
   ],
   "source": [
    "import xlwt\n",
    "df_train = pd.DataFrame(data=X_other_prep)\n",
    "df_val = pd.DataFrame(data=X_test_prep)\n",
    "\n",
    "df_train.to_excel(r'C:\\Users\\ASUS Zephyrus G15\\DATA1030-Fall2021\\data 1030 project\\data\\prep_train.xls')\n",
    "df_val.to_excel(r'C:\\Users\\ASUS Zephyrus G15\\DATA1030-Fall2021\\data 1030 project\\data/prep_val.xls')\n"
   ]
  },
  {
   "cell_type": "markdown",
   "id": "8538fb38-4d84-4740-80f2-be7bed0000fd",
   "metadata": {},
   "source": [
    "### Running ML model without parameter tunning"
   ]
  },
  {
   "cell_type": "code",
   "execution_count": 26,
   "id": "1bfee282-cd55-4b40-afd5-8a2f62bfb004",
   "metadata": {},
   "outputs": [],
   "source": [
    "models = [\n",
    "    ('Logistic Regression', LogisticRegression(max_iter=1000)),\n",
    "    ('Support Vector Classifier', SVC()),\n",
    "    ('Random Forest Classifier', RandomForestClassifier()),\n",
    "    ('XGB Classifier', XGBClassifier(verbosity = 0,use_label_encoder=False)),\n",
    "]\n",
    "\n",
    "results = dict()\n",
    "for name, model in models:\n",
    "    model.fit(X_other, y_other)\n",
    "    pred = model.predict(X_test)\n",
    "    \n",
    "    \n",
    "    score = accuracy_score(y_test, pred)    \n",
    "    mae = mean_absolute_error(y_test, pred)\n",
    "    mse = mean_squared_error(y_test, pred)\n",
    "    rmse = np.sqrt(mean_squared_error(y_test, pred))\n",
    "    precision = precision_score(y_test, pred) \n",
    "    results[name] = score  "
   ]
  },
  {
   "cell_type": "code",
   "execution_count": 27,
   "id": "ebe8faa8-42f0-418f-bd6b-e4e6c51dc2fd",
   "metadata": {},
   "outputs": [],
   "source": [
    "df_results = pd.DataFrame([results])\n",
    "df_results = df_results.transpose()\n",
    "df_results = df_results.rename(columns={0:'Score'}).sort_values(by='Score',ascending=False)"
   ]
  },
  {
   "cell_type": "code",
   "execution_count": 28,
   "id": "e6c99db7-f369-4acc-ab56-28514896721c",
   "metadata": {},
   "outputs": [
    {
     "data": {
      "text/html": [
       "<div>\n",
       "<style scoped>\n",
       "    .dataframe tbody tr th:only-of-type {\n",
       "        vertical-align: middle;\n",
       "    }\n",
       "\n",
       "    .dataframe tbody tr th {\n",
       "        vertical-align: top;\n",
       "    }\n",
       "\n",
       "    .dataframe thead th {\n",
       "        text-align: right;\n",
       "    }\n",
       "</style>\n",
       "<table border=\"1\" class=\"dataframe\">\n",
       "  <thead>\n",
       "    <tr style=\"text-align: right;\">\n",
       "      <th></th>\n",
       "      <th>Score</th>\n",
       "    </tr>\n",
       "  </thead>\n",
       "  <tbody>\n",
       "    <tr>\n",
       "      <th>XGB Classifier</th>\n",
       "      <td>0.889706</td>\n",
       "    </tr>\n",
       "    <tr>\n",
       "      <th>Random Forest Classifier</th>\n",
       "      <td>0.884804</td>\n",
       "    </tr>\n",
       "    <tr>\n",
       "      <th>Logistic Regression</th>\n",
       "      <td>0.713235</td>\n",
       "    </tr>\n",
       "    <tr>\n",
       "      <th>Support Vector Classifier</th>\n",
       "      <td>0.600490</td>\n",
       "    </tr>\n",
       "  </tbody>\n",
       "</table>\n",
       "</div>"
      ],
      "text/plain": [
       "                              Score\n",
       "XGB Classifier             0.889706\n",
       "Random Forest Classifier   0.884804\n",
       "Logistic Regression        0.713235\n",
       "Support Vector Classifier  0.600490"
      ]
     },
     "execution_count": 28,
     "metadata": {},
     "output_type": "execute_result"
    }
   ],
   "source": [
    "df_results"
   ]
  },
  {
   "cell_type": "markdown",
   "id": "5ae5b14a-eb98-404e-a288-1c271a15c451",
   "metadata": {},
   "source": [
    "### baseline accuracy can be computed as the portion of the largest class"
   ]
  },
  {
   "cell_type": "code",
   "execution_count": 5,
   "id": "3b4433e9-1d29-48c8-be91-4a6ab9cccaec",
   "metadata": {},
   "outputs": [
    {
     "name": "stdout",
     "output_type": "stream",
     "text": [
      "1    1226\n",
      "0     810\n",
      "Name: Potability, dtype: int64 \n",
      "\n",
      "Baseline accuracy for our prediction:  0.6021611001964636\n"
     ]
    }
   ],
   "source": [
    "print(df.Potability.value_counts(),'\\n')\n",
    "\n",
    "print(\"Baseline accuracy for our prediction: \", df.Potability.value_counts()[1]/len(df))"
   ]
  },
  {
   "cell_type": "markdown",
   "id": "cd9a4c84-9bb3-4d55-887f-641133048024",
   "metadata": {},
   "source": [
    "### Semi auto ML version(Additional work not for this project)"
   ]
  },
  {
   "cell_type": "code",
   "execution_count": 29,
   "id": "3969896a-3089-4e3d-89bc-945aef6c444f",
   "metadata": {},
   "outputs": [
    {
     "name": "stdout",
     "output_type": "stream",
     "text": [
      "\n",
      "          \n",
      "██╗░░░░░██╗░░░██╗░█████╗░██╗███████╗███████╗██████╗░░░░░░░███╗░░░███╗██╗░░░░░\n",
      "██║░░░░░██║░░░██║██╔══██╗██║██╔════╝██╔════╝██╔══██╗░░░░░░████╗░████║██║░░░░░\n",
      "██║░░░░░██║░░░██║██║░░╚═╝██║█████╗░░█████╗░░██████╔╝█████╗██╔████╔██║██║░░░░░\n",
      "██║░░░░░██║░░░██║██║░░██╗██║██╔══╝░░██╔══╝░░██╔══██╗╚════╝██║╚██╔╝██║██║░░░░░\n",
      "███████╗╚██████╔╝╚█████╔╝██║██║░░░░░███████╗██║░░██║░░░░░░██║░╚═╝░██║███████╗\n",
      "╚══════╝░╚═════╝░░╚════╝░╚═╝╚═╝░░░░░╚══════╝╚═╝░░╚═╝░░░░░░╚═╝░░░░░╚═╝╚══════╝\n",
      "\n",
      "Started LuciferML \n",
      "\n",
      "Checking if labels or features are categorical! [*]\n",
      "\n",
      "Features are not categorical [ ✓ ]\n",
      "\n",
      "Labels are not categorical [ ✓ ]\n",
      "\n",
      "Checking for Categorical Variables Done [ ✓ ]\n",
      "\n",
      "Checking for Sparse Matrix [*]\n",
      "\n",
      "Checking for Sparse Matrix Done [ ✓ ]\n",
      "\n",
      "Splitting Data into Train and Validation Sets [*]\n",
      "\n",
      "Splitting Done [ ✓ ]\n",
      "\n",
      "Scaling Training and Test Sets [*]\n",
      "\n",
      "Scaling Done [ ✓ ]\n",
      "\n",
      "Training All Classifiers [*]\n",
      "\n"
     ]
    },
    {
     "name": "stderr",
     "output_type": "stream",
     "text": [
      "C:\\Anaconda\\envs\\data1030\\lib\\site-packages\\xgboost\\sklearn.py:1224: UserWarning: The use of label encoder in XGBClassifier is deprecated and will be removed in a future release. To remove this warning, do the following: 1) Pass option use_label_encoder=False when constructing XGBClassifier object; and 2) Encode your labels (y) as integers starting with 0, i.e. 0, 1, 2, ..., [num_class - 1].\n",
      "  warnings.warn(label_encoder_deprecation_msg, UserWarning)\n",
      "C:\\Anaconda\\envs\\data1030\\lib\\site-packages\\xgboost\\sklearn.py:1224: UserWarning: The use of label encoder in XGBClassifier is deprecated and will be removed in a future release. To remove this warning, do the following: 1) Pass option use_label_encoder=False when constructing XGBClassifier object; and 2) Encode your labels (y) as integers starting with 0, i.e. 0, 1, 2, ..., [num_class - 1].\n",
      "  warnings.warn(label_encoder_deprecation_msg, UserWarning)\n",
      "C:\\Anaconda\\envs\\data1030\\lib\\site-packages\\xgboost\\sklearn.py:1224: UserWarning: The use of label encoder in XGBClassifier is deprecated and will be removed in a future release. To remove this warning, do the following: 1) Pass option use_label_encoder=False when constructing XGBClassifier object; and 2) Encode your labels (y) as integers starting with 0, i.e. 0, 1, 2, ..., [num_class - 1].\n",
      "  warnings.warn(label_encoder_deprecation_msg, UserWarning)\n",
      "C:\\Anaconda\\envs\\data1030\\lib\\site-packages\\xgboost\\sklearn.py:1224: UserWarning: The use of label encoder in XGBClassifier is deprecated and will be removed in a future release. To remove this warning, do the following: 1) Pass option use_label_encoder=False when constructing XGBClassifier object; and 2) Encode your labels (y) as integers starting with 0, i.e. 0, 1, 2, ..., [num_class - 1].\n",
      "  warnings.warn(label_encoder_deprecation_msg, UserWarning)\n",
      "C:\\Anaconda\\envs\\data1030\\lib\\site-packages\\xgboost\\sklearn.py:1224: UserWarning: The use of label encoder in XGBClassifier is deprecated and will be removed in a future release. To remove this warning, do the following: 1) Pass option use_label_encoder=False when constructing XGBClassifier object; and 2) Encode your labels (y) as integers starting with 0, i.e. 0, 1, 2, ..., [num_class - 1].\n",
      "  warnings.warn(label_encoder_deprecation_msg, UserWarning)\n",
      "C:\\Anaconda\\envs\\data1030\\lib\\site-packages\\xgboost\\sklearn.py:1224: UserWarning: The use of label encoder in XGBClassifier is deprecated and will be removed in a future release. To remove this warning, do the following: 1) Pass option use_label_encoder=False when constructing XGBClassifier object; and 2) Encode your labels (y) as integers starting with 0, i.e. 0, 1, 2, ..., [num_class - 1].\n",
      "  warnings.warn(label_encoder_deprecation_msg, UserWarning)\n"
     ]
    },
    {
     "name": "stdout",
     "output_type": "stream",
     "text": [
      "Training All Classifiers Done [ ✓ ]\n",
      "\n",
      "Saved Best Model to lucifer_ml_info/best/classifier/models/XGBoost_Classifier_1638686406.pkl and its scaler to lucifer_ml_info/best/classifier/scalers/XGBoost_Classifier_Scaler_1638686406.pkl \n",
      "\n"
     ]
    },
    {
     "data": {
      "text/html": [
       "<div>\n",
       "<style scoped>\n",
       "    .dataframe tbody tr th:only-of-type {\n",
       "        vertical-align: middle;\n",
       "    }\n",
       "\n",
       "    .dataframe tbody tr th {\n",
       "        vertical-align: top;\n",
       "    }\n",
       "\n",
       "    .dataframe thead th {\n",
       "        text-align: right;\n",
       "    }\n",
       "</style>\n",
       "<table border=\"1\" class=\"dataframe\">\n",
       "  <thead>\n",
       "    <tr style=\"text-align: right;\">\n",
       "      <th></th>\n",
       "      <th>Name</th>\n",
       "      <th>Accuracy</th>\n",
       "      <th>KFold Accuracy</th>\n",
       "    </tr>\n",
       "  </thead>\n",
       "  <tbody>\n",
       "    <tr>\n",
       "      <th>0</th>\n",
       "      <td>Logistic Regression</td>\n",
       "      <td>75.000000</td>\n",
       "      <td>74.445682</td>\n",
       "    </tr>\n",
       "    <tr>\n",
       "      <th>1</th>\n",
       "      <td>Passive Aggressive Classifier</td>\n",
       "      <td>62.745098</td>\n",
       "      <td>63.697216</td>\n",
       "    </tr>\n",
       "    <tr>\n",
       "      <th>2</th>\n",
       "      <td>Ridge Classifier</td>\n",
       "      <td>72.549020</td>\n",
       "      <td>74.077584</td>\n",
       "    </tr>\n",
       "    <tr>\n",
       "      <th>3</th>\n",
       "      <td>Support Vector Machine</td>\n",
       "      <td>79.166667</td>\n",
       "      <td>79.235488</td>\n",
       "    </tr>\n",
       "    <tr>\n",
       "      <th>4</th>\n",
       "      <td>K-Nearest Neighbours</td>\n",
       "      <td>80.882353</td>\n",
       "      <td>81.508825</td>\n",
       "    </tr>\n",
       "    <tr>\n",
       "      <th>5</th>\n",
       "      <td>Decision Trees</td>\n",
       "      <td>79.411765</td>\n",
       "      <td>76.964228</td>\n",
       "    </tr>\n",
       "    <tr>\n",
       "      <th>6</th>\n",
       "      <td>Naive Bayes</td>\n",
       "      <td>49.754902</td>\n",
       "      <td>48.097216</td>\n",
       "    </tr>\n",
       "    <tr>\n",
       "      <th>7</th>\n",
       "      <td>Random Forest Classifier</td>\n",
       "      <td>86.764706</td>\n",
       "      <td>88.081925</td>\n",
       "    </tr>\n",
       "    <tr>\n",
       "      <th>8</th>\n",
       "      <td>Gradient Boosting Classifier</td>\n",
       "      <td>82.843137</td>\n",
       "      <td>83.290042</td>\n",
       "    </tr>\n",
       "    <tr>\n",
       "      <th>9</th>\n",
       "      <td>AdaBoost Classifier</td>\n",
       "      <td>75.735294</td>\n",
       "      <td>78.747145</td>\n",
       "    </tr>\n",
       "    <tr>\n",
       "      <th>10</th>\n",
       "      <td>Bagging Classifier</td>\n",
       "      <td>83.333333</td>\n",
       "      <td>83.414252</td>\n",
       "    </tr>\n",
       "    <tr>\n",
       "      <th>11</th>\n",
       "      <td>Extra Trees Classifier</td>\n",
       "      <td>86.029412</td>\n",
       "      <td>89.064276</td>\n",
       "    </tr>\n",
       "    <tr>\n",
       "      <th>12</th>\n",
       "      <td>LightGBM Classifier</td>\n",
       "      <td>85.049020</td>\n",
       "      <td>87.774233</td>\n",
       "    </tr>\n",
       "    <tr>\n",
       "      <th>13</th>\n",
       "      <td>CatBoost Classifier</td>\n",
       "      <td>86.764706</td>\n",
       "      <td>88.327702</td>\n",
       "    </tr>\n",
       "    <tr>\n",
       "      <th>14</th>\n",
       "      <td>XGBoost Classifier</td>\n",
       "      <td>85.784314</td>\n",
       "      <td>88.819821</td>\n",
       "    </tr>\n",
       "  </tbody>\n",
       "</table>\n",
       "</div>"
      ],
      "text/plain": [
       "                             Name   Accuracy  KFold Accuracy\n",
       "0             Logistic Regression  75.000000       74.445682\n",
       "1   Passive Aggressive Classifier  62.745098       63.697216\n",
       "2                Ridge Classifier  72.549020       74.077584\n",
       "3          Support Vector Machine  79.166667       79.235488\n",
       "4            K-Nearest Neighbours  80.882353       81.508825\n",
       "5                  Decision Trees  79.411765       76.964228\n",
       "6                     Naive Bayes  49.754902       48.097216\n",
       "7        Random Forest Classifier  86.764706       88.081925\n",
       "8    Gradient Boosting Classifier  82.843137       83.290042\n",
       "9             AdaBoost Classifier  75.735294       78.747145\n",
       "10             Bagging Classifier  83.333333       83.414252\n",
       "11         Extra Trees Classifier  86.029412       89.064276\n",
       "12            LightGBM Classifier  85.049020       87.774233\n",
       "13            CatBoost Classifier  86.764706       88.327702\n",
       "14             XGBoost Classifier  85.784314       88.819821"
      ]
     },
     "metadata": {},
     "output_type": "display_data"
    },
    {
     "name": "stdout",
     "output_type": "stream",
     "text": [
      "Complete [ ✓ ]\n",
      "\n",
      "Time Elapsed :  17.80840253829956 seconds \n",
      "\n"
     ]
    }
   ],
   "source": [
    "classifier = Classification(\n",
    "    predictor='all', \n",
    "    params= {},\n",
    "    cv_folds=5, \n",
    "    epochs=10,     \n",
    "    exclude_models=[\n",
    "        \"sgd\",\n",
    "        \"perc\",\n",
    "        \"ann\",\n",
    "    ]\n",
    ")\n",
    "classifier.fit(X, y)"
   ]
  },
  {
   "cell_type": "code",
   "execution_count": null,
   "id": "3121cc8e-280d-4ce8-b45c-fb0a38f02cf5",
   "metadata": {},
   "outputs": [],
   "source": []
  }
 ],
 "metadata": {
  "kernelspec": {
   "display_name": "Python 3 (ipykernel)",
   "language": "python",
   "name": "python3"
  },
  "language_info": {
   "codemirror_mode": {
    "name": "ipython",
    "version": 3
   },
   "file_extension": ".py",
   "mimetype": "text/x-python",
   "name": "python",
   "nbconvert_exporter": "python",
   "pygments_lexer": "ipython3",
   "version": "3.9.7"
  }
 },
 "nbformat": 4,
 "nbformat_minor": 5
}
