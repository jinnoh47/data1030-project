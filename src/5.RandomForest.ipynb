{
 "cells": [
  {
   "cell_type": "code",
   "execution_count": 3,
   "id": "dd6590db-66fc-483c-b5b0-85e39cfa4a7f",
   "metadata": {},
   "outputs": [],
   "source": [
    "import pandas as pd\n",
    "import numpy as np\n",
    "import seaborn as sns\n",
    "from sklearn.ensemble import RandomForestClassifier\n",
    "from sklearn.compose import ColumnTransformer\n",
    "from sklearn.pipeline import Pipeline\n",
    "from sklearn.preprocessing import StandardScaler, OneHotEncoder, OrdinalEncoder, MinMaxScaler\n",
    "from sklearn.model_selection import train_test_split\n",
    "from sklearn.metrics import accuracy_score\n",
    "from sklearn.model_selection import GridSearchCV,RandomizedSearchCV\n",
    "from sklearn.metrics import roc_curve, auc, RocCurveDisplay\n",
    "import plotly as plt\n",
    "from sklearn.metrics import confusion_matrix, classification_report\n",
    "from sklearn.metrics import precision_score, recall_score, f1_score\n",
    "from sklearn.metrics import plot_roc_curve\n",
    "from luciferml.supervised.classification import Classification\n",
    "from luciferml.preprocessing import Preprocess as prep\n",
    "from sklearn.metrics import accuracy_score\n",
    "from matplotlib import pylab as plt\n",
    "from sklearn.pipeline import make_pipeline\n",
    "from sklearn.model_selection import KFold\n",
    "import pickle"
   ]
  },
  {
   "cell_type": "code",
   "execution_count": 4,
   "id": "4e22dc8c-43f0-4221-83a7-f8216e288908",
   "metadata": {},
   "outputs": [],
   "source": [
    "df = pd.read_excel(r'C:\\Users\\ASUS Zephyrus G15\\DATA1030-Fall2021\\data 1030 project\\data\\전국상수도수질검사표준데이터.xls')"
   ]
  },
  {
   "cell_type": "code",
   "execution_count": 5,
   "id": "83f45b96-5fd0-4ffb-b944-dbc59e3f01c4",
   "metadata": {},
   "outputs": [],
   "source": [
    "y = df['Potability']\n",
    "X = df.loc[:, df.columns != 'Potability']"
   ]
  },
  {
   "cell_type": "code",
   "execution_count": 6,
   "id": "400c3df2-7795-40ed-9afe-d38bfeaa402d",
   "metadata": {},
   "outputs": [
    {
     "name": "stdout",
     "output_type": "stream",
     "text": [
      "Fitting 5 folds for each of 15 candidates, totalling 75 fits\n",
      "best model parameters: {'randomforestclassifier__max_depth': 25, 'randomforestclassifier__max_features': 0.5}\n",
      "validation score: 0.8654818310523831\n",
      "test score: 0.8799019607843137\n",
      "test baseline =  0.42892156862745096\n",
      "test accuracy: 0.18 +/- 0.35\n",
      "Fitting 5 folds for each of 15 candidates, totalling 75 fits\n",
      "best model parameters: {'randomforestclassifier__max_depth': 25, 'randomforestclassifier__max_features': 0.75}\n",
      "validation score: 0.8556488909863142\n",
      "test score: 0.8578431372549019\n",
      "test baseline =  0.4166666666666667\n",
      "test accuracy: 0.35 +/- 0.43\n",
      "Fitting 5 folds for each of 15 candidates, totalling 75 fits\n",
      "best model parameters: {'randomforestclassifier__max_depth': 25, 'randomforestclassifier__max_features': 0.75}\n",
      "validation score: 0.8538084001887682\n",
      "test score: 0.9044117647058824\n",
      "test baseline =  0.3799019607843137\n",
      "test accuracy: 0.53 +/- 0.43\n",
      "Fitting 5 folds for each of 15 candidates, totalling 75 fits\n",
      "best model parameters: {'randomforestclassifier__max_depth': 25, 'randomforestclassifier__max_features': 0.5}\n",
      "validation score: 0.8697781972628599\n",
      "test score: 0.8627450980392157\n",
      "test baseline =  0.40931372549019607\n",
      "test accuracy: 0.7 +/- 0.35\n",
      "Fitting 5 folds for each of 15 candidates, totalling 75 fits\n",
      "best model parameters: {'randomforestclassifier__max_depth': 25, 'randomforestclassifier__max_features': 0.5}\n",
      "validation score: 0.8612081170363378\n",
      "test score: 0.8700980392156863\n",
      "test baseline =  0.3799019607843137\n",
      "test accuracy: 0.88 +/- 0.02\n"
     ]
    }
   ],
   "source": [
    "std_ftrs = ['general_bacteria','lead','fluoride','arsenic','selenium','ammonia-like_nitrogen',\n",
    "            'nitrogen_nitrate','cadmium','phenol','diazinone','carbaryl','1_1_1-trichloroethane','tetrachloroethylene','trichloroethylene',\n",
    "            'carbon_tetrachloride','1_1-dichloroethylene','dichloromethane','toluene','Xylene','1_2-dibromo-3-chloropropane','1_4-dioxane.','residual_goat',\n",
    "            'total_trihalomethane','chloroform','bromodichloromethane','chloral_hydrate','dibromoacetonitrile','dichloroacetonitrile','trichloroacetonitrile',\n",
    "            'haloacetic_seed','formaldehyde','Bronze','chromaticity','detergent','pH','zinc','chloride_ion','Fe','Mn',\n",
    "            'turbidity','sulfate_ion','potasium_permanganate_consumption','aluminum']\n",
    "\n",
    "preprocessor = ColumnTransformer(transformers=[('std', StandardScaler(), std_ftrs)])\n",
    "\n",
    "param_grid = {\n",
    "              'randomforestclassifier__max_depth': [1, 3, 10, 25, 50], \n",
    "              'randomforestclassifier__max_features': [0.5,0.75,1.0] \n",
    "              } \n",
    "\n",
    "test_scores = np.zeros(5)\n",
    "final_models = []\n",
    "\n",
    "for i in range(5):\n",
    "    X_other, X_test, y_other, y_test = train_test_split(X,y,test_size = 0.2,random_state=47*i)\n",
    "\n",
    "    # splitter for other\n",
    "    kf = KFold(n_splits=5,shuffle=True,random_state=47*i)\n",
    "    \n",
    "    numeric_transformer = Pipeline(steps=[\n",
    "        ('scaler', StandardScaler())])\n",
    "    \n",
    "    # the classifier\n",
    "    clf = RandomForestClassifier(random_state = 47*i) # initialize the classifier\n",
    "    pipe = make_pipeline(preprocessor,clf)\n",
    "\n",
    "    # use GridSearchCV\n",
    "    # GridSearchCV loops through all parameter combinations and collects the results \n",
    "    grid = GridSearchCV(pipe, param_grid=param_grid,scoring = 'accuracy',\n",
    "                        cv=kf, return_train_score = True, n_jobs=-1, verbose=True)\n",
    "    \n",
    "    # this line actually fits the model on other\n",
    "    grid.fit(X_other, y_other)\n",
    "    \n",
    "    # save results into a data frame. feel free to print it and inspect it\n",
    "    results = pd.DataFrame(grid.cv_results_)\n",
    "    #print(results)\n",
    "\n",
    "    print('best model parameters:',grid.best_params_)\n",
    "    print('validation score:',grid.best_score_) # this is the mean validation score over all iterations\n",
    "    # save the model\n",
    "    final_models.append(grid)\n",
    "    # calculate and save the test score\n",
    "    y_test_pred = final_models[-1].predict(X_test)\n",
    "    test_scores[i] = accuracy_score(y_test,y_test_pred)\n",
    "    print('test score:',test_scores[i])\n",
    "    print('test baseline = ',np.sum(y_test == 0)/len(y_test))\n",
    "    print('test accuracy:',np.around(np.mean(test_scores),2),'+/-',np.around(np.std(test_scores),2))\n",
    "    \n",
    "    fname = r'C:\\Users\\ASUS Zephyrus G15\\DATA1030-Fall2021\\data 1030 project\\results\\RF'+str(i)+'.lasso'\n",
    "    file = open(fname, 'wb')\n",
    "    pickle.dump((grid,X_test,y_test),file)\n",
    "    file.close()"
   ]
  },
  {
   "cell_type": "code",
   "execution_count": 7,
   "id": "a61b4bad-82ec-4b88-b3ad-83a2805ac511",
   "metadata": {},
   "outputs": [
    {
     "name": "stdout",
     "output_type": "stream",
     "text": [
      "[[128  27]\n",
      " [ 26 227]]\n"
     ]
    }
   ],
   "source": [
    "y_true = y_test\n",
    "y_preds = y_preds = grid.predict(X_test)\n",
    "                                         \n",
    "print(confusion_matrix(y_true,y_preds))"
   ]
  },
  {
   "cell_type": "code",
   "execution_count": 8,
   "id": "d41abe72-1cc4-4391-a4be-921458c503e6",
   "metadata": {},
   "outputs": [
    {
     "data": {
      "image/png": "[encoded data removed]",
      "text/plain": [
       "<Figure size 432x288 with 1 Axes>"
      ]
     },
     "metadata": {
      "needs_background": "light"
     },
     "output_type": "display_data"
    }
   ],
   "source": [
    "roc = plot_roc_curve(grid, X_test, y_test);"
   ]
  },
  {
   "cell_type": "code",
   "execution_count": 9,
   "id": "3a4857dd-113d-4487-8ae6-232b9a5e92a3",
   "metadata": {},
   "outputs": [],
   "source": [
    "from sklearn.utils.multiclass import unique_labels\n",
    "\n",
    "def plot_confusion_matrix(y_true, y_pred, classes,\n",
    "                          normalize=True,\n",
    "                          title=None,\n",
    "                          cmap=plt.cm.Blues):\n",
    "    \"\"\"\n",
    "    This function prints and plots the confusion matrix.\n",
    "    Normalization can be applied by setting `normalize=True`.\n",
    "    \"\"\"\n",
    "    if not title:\n",
    "        if normalize:\n",
    "            title = 'Normalized confusion matrix'\n",
    "        else:\n",
    "            title = 'Confusion matrix, without normalization'\n",
    "\n",
    "    # Compute confusion matrix\n",
    "    cm = confusion_matrix(y_true, y_pred)\n",
    "    # Only use the labels that appear in the data\n",
    "    classes = np.array(classes)\n",
    "    #classes = classes[unique_labels(y_true, y_pred)]\n",
    "    if normalize:\n",
    "        cm = cm.astype('float') / cm.sum(axis=1)[:, np.newaxis]\n",
    "        \n",
    "    fig, ax = plt.subplots()\n",
    "    im = ax.imshow(cm, interpolation='nearest', cmap=cmap)\n",
    "    ax.figure.colorbar(im, ax=ax)\n",
    "    # We want to show all ticks...\n",
    "    ax.set(xticks=np.arange(cm.shape[1]),\n",
    "           yticks=np.arange(cm.shape[0]),\n",
    "           # ... and label them with the respective list entries\n",
    "           xticklabels=classes, yticklabels=classes,\n",
    "           title=title,\n",
    "           ylabel='True label',\n",
    "           xlabel='Predicted label')\n",
    "\n",
    "    # Rotate the tick labels and set their alignment.\n",
    "    plt.setp(ax.get_xticklabels(), rotation=45, ha=\"right\",\n",
    "             rotation_mode=\"anchor\")\n",
    "\n",
    "    # Loop over data dimensions and create text annotations.\n",
    "    fmt = '.2f' if normalize else 'd'\n",
    "    thresh = cm.max() / 2.\n",
    "    for i in range(cm.shape[0]):\n",
    "        for j in range(cm.shape[1]):\n",
    "            ax.text(j, i, format(cm[i, j], fmt),\n",
    "                    ha=\"center\", va=\"center\",\n",
    "                    color=\"white\" if cm[i, j] > thresh else \"black\")\n",
    "    fig.tight_layout()\n",
    "    return ax"
   ]
  },
  {
   "cell_type": "code",
   "execution_count": 10,
   "id": "cc237b76-21e4-4873-bdaf-63d396b7d3b6",
   "metadata": {},
   "outputs": [
    {
     "data": {
      "image/png": "[encoded data removed]",
      "text/plain": [
       "<Figure size 432x288 with 2 Axes>"
      ]
     },
     "metadata": {
      "needs_background": "light"
     },
     "output_type": "display_data"
    }
   ],
   "source": [
    "plot_confusion_matrix(y_true,y_preds,classes=['potable','Not potable'])\n",
    "plt.tight_layout()\n",
    "plt.savefig(r'C:\\Users\\ASUS Zephyrus G15\\DATA1030-Fall2021\\data 1030 project\\figures\\RF_Confusion_matrix',dpi = 300)\n",
    "plt.show()"
   ]
  },
  {
   "cell_type": "code",
   "execution_count": 9,
   "id": "48ed03c7-7ea4-447f-aeae-955fe9c0eea4",
   "metadata": {},
   "outputs": [
    {
     "name": "stdout",
     "output_type": "stream",
     "text": [
      "              precision    recall  f1-score   support\n",
      "\n",
      "           0       0.83      0.83      0.83       155\n",
      "           1       0.89      0.90      0.90       253\n",
      "\n",
      "    accuracy                           0.87       408\n",
      "   macro avg       0.86      0.86      0.86       408\n",
      "weighted avg       0.87      0.87      0.87       408\n",
      "\n"
     ]
    }
   ],
   "source": [
    "print(classification_report(y_test, y_preds))"
   ]
  },
  {
   "cell_type": "code",
   "execution_count": 11,
   "id": "7e7c0084-bff4-43f8-b8f9-7566fa97e320",
   "metadata": {},
   "outputs": [],
   "source": [
    "accuracy_scores =  {}"
   ]
  },
  {
   "cell_type": "code",
   "execution_count": 83,
   "id": "6bf7768b-d802-4b50-b818-b7b83420ba70",
   "metadata": {},
   "outputs": [
    {
     "name": "stdout",
     "output_type": "stream",
     "text": [
      "\n",
      "          \n",
      "██╗░░░░░██╗░░░██╗░█████╗░██╗███████╗███████╗██████╗░░░░░░░███╗░░░███╗██╗░░░░░\n",
      "██║░░░░░██║░░░██║██╔══██╗██║██╔════╝██╔════╝██╔══██╗░░░░░░████╗░████║██║░░░░░\n",
      "██║░░░░░██║░░░██║██║░░╚═╝██║█████╗░░█████╗░░██████╔╝█████╗██╔████╔██║██║░░░░░\n",
      "██║░░░░░██║░░░██║██║░░██╗██║██╔══╝░░██╔══╝░░██╔══██╗╚════╝██║╚██╔╝██║██║░░░░░\n",
      "███████╗╚██████╔╝╚█████╔╝██║██║░░░░░███████╗██║░░██║░░░░░░██║░╚═╝░██║███████╗\n",
      "╚══════╝░╚═════╝░░╚════╝░╚═╝╚═╝░░░░░╚══════╝╚═╝░░╚═╝░░░░░░╚═╝░░░░░╚═╝╚══════╝\n",
      "\n",
      "Started LuciferML \n",
      "\n",
      "Checking if labels or features are categorical! [*]\n",
      "\n",
      "Features are not categorical [ ✓ ]\n",
      "\n",
      "Labels are not categorical [ ✓ ]\n",
      "\n",
      "Checking for Categorical Variables Done [ ✓ ]\n",
      "\n",
      "Checking for Sparse Matrix [*]\n",
      "\n",
      "Checking for Sparse Matrix Done [ ✓ ]\n",
      "\n",
      "Applying SMOTE [*]\n",
      "\n",
      "SMOTE Done [ ✓ ]\n",
      "\n",
      "Splitting Data into Train and Validation Sets [*]\n",
      "\n",
      "Splitting Done [ ✓ ]\n",
      "\n",
      "Scaling Training and Test Sets [*]\n",
      "\n",
      "Scaling Done [ ✓ ]\n",
      "\n",
      "Training Support Vector Machine on Training Set [*]\n",
      "\n",
      "Model Training Done [ ✓ ]\n",
      "\n",
      "Predicting Data [*]\n",
      "\n",
      "Data Prediction Done [ ✓ ]\n",
      "\n",
      "Making Confusion Matrix [*]\n"
     ]
    },
    {
     "data": {
      "image/png": "[encoded data removed]",
      "text/plain": [
       "<Figure size 432x288 with 2 Axes>"
      ]
     },
     "metadata": {
      "needs_background": "light"
     },
     "output_type": "display_data"
    },
    {
     "name": "stdout",
     "output_type": "stream",
     "text": [
      "Confusion Matrix Done [ ✓ ]\n",
      "\n",
      "Evaluating Model Performance [*]\n",
      "Validation Accuracy is : 0.7942973523421588\n",
      "Evaluating Model Performance [ ✓ ]\n",
      "\n",
      "Applying K-Fold Cross Validation [*]\n",
      "Accuracy: 75.17 %\n",
      "Standard Deviation: 3.24 %\n",
      "K-Fold Cross Validation [ ✓ ]\n",
      "\n",
      "Complete [ ✓ ]\n",
      "\n",
      "Time Elapsed :  2.0110538005828857 seconds \n",
      "\n"
     ]
    }
   ],
   "source": [
    "params = {'C': .75, 'gamma': 0.2,\n",
    "          'kernel': 'linear', 'random_state': 47}\n",
    "classifier =  Classification(predictor = 'svm',params=params, smote = 'y')\n",
    "classifier.fit(X, y)\n",
    "result = classifier.result()\n",
    "accuracy_scores[result['Classifier']] = result['Accuracy']"
   ]
  },
  {
   "cell_type": "code",
   "execution_count": 84,
   "id": "0f45f621-d0a7-42fb-843a-835d3d110aee",
   "metadata": {},
   "outputs": [
    {
     "data": {
      "text/plain": [
       "{'Support Vector Machine': 75.16549259297628}"
      ]
     },
     "execution_count": 84,
     "metadata": {},
     "output_type": "execute_result"
    }
   ],
   "source": [
    "accuracy_scores"
   ]
  },
  {
   "cell_type": "code",
   "execution_count": null,
   "id": "a4cb2cdf-4df8-4eb5-99ba-bcb3d1e14a29",
   "metadata": {},
   "outputs": [],
   "source": []
  }
 ],
 "metadata": {
  "kernelspec": {
   "display_name": "Python 3 (ipykernel)",
   "language": "python",
   "name": "python3"
  },
  "language_info": {
   "codemirror_mode": {
    "name": "ipython",
    "version": 3
   },
   "file_extension": ".py",
   "mimetype": "text/x-python",
   "name": "python",
   "nbconvert_exporter": "python",
   "pygments_lexer": "ipython3",
   "version": "3.9.7"
  }
 },
 "nbformat": 4,
 "nbformat_minor": 5
}
