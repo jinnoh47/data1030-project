{
 "cells": [
  {
   "cell_type": "code",
   "execution_count": 1,
   "id": "c793276c-1aab-48d4-a0c9-9ea2871861ab",
   "metadata": {},
   "outputs": [],
   "source": [
    "import pandas as pd\n",
    "import numpy as np\n",
    "import seaborn as sns\n",
    "import plotly as plt\n",
    "import pickle\n",
    "from sklearn.model_selection import KFold\n",
    "from sklearn.metrics import mean_squared_error\n",
    "from sklearn.linear_model import LogisticRegression\n",
    "from sklearn.compose import ColumnTransformer\n",
    "from sklearn.pipeline import Pipeline\n",
    "from sklearn.preprocessing import StandardScaler, OneHotEncoder, OrdinalEncoder, MinMaxScaler\n",
    "from sklearn.model_selection import train_test_split\n",
    "from sklearn.metrics import accuracy_score\n",
    "from sklearn.model_selection import GridSearchCV,RandomizedSearchCV\n",
    "from sklearn.metrics import roc_curve, auc, RocCurveDisplay\n",
    "from sklearn.metrics import confusion_matrix, classification_report, accuracy_score\n",
    "from luciferml.supervised.classification import Classification\n",
    "from sklearn.metrics import confusion_matrix, classification_report\n",
    "from sklearn.metrics import precision_score, recall_score, f1_score\n",
    "from sklearn.metrics import plot_roc_curve\n",
    "from luciferml.supervised.classification import Classification\n",
    "from luciferml.preprocessing import Preprocess as prep\n",
    "from sklearn.pipeline import make_pipeline\n",
    "from sklearn.metrics import make_scorer\n",
    "from matplotlib import pylab as plt\n",
    "from luciferml.supervised.classification import Classification\n",
    "from luciferml.preprocessing import Preprocess as prep"
   ]
  },
  {
   "cell_type": "code",
   "execution_count": 2,
   "id": "70c07e53-1293-47a9-be8a-783f3f52e4d0",
   "metadata": {},
   "outputs": [],
   "source": [
    "df = pd.read_excel(r'C:\\Users\\ASUS Zephyrus G15\\DATA1030-Fall2021\\data 1030 project\\data\\전국상수도수질검사표준데이터.xls')"
   ]
  },
  {
   "cell_type": "code",
   "execution_count": 3,
   "id": "4a00a794-40f5-4320-8438-0e40cf982bf2",
   "metadata": {},
   "outputs": [],
   "source": [
    "y = df['Potability']\n",
    "X = df.loc[:, df.columns != 'Potability']"
   ]
  },
  {
   "cell_type": "code",
   "execution_count": 4,
   "id": "2cdea454-c410-4171-ab71-52975781b94d",
   "metadata": {},
   "outputs": [
    {
     "name": "stdout",
     "output_type": "stream",
     "text": [
      "Fitting 5 folds for each of 40 candidates, totalling 200 fits\n",
      "best model parameters: {'logisticregression__C': 206.913808111479, 'logisticregression__penalty': 'l1'}\n",
      "validation score: 0.7629108069844267\n",
      "test score: 0.7622549019607843\n",
      "test baseline =  0.571078431372549\n",
      "test accuracy: 0.15 +/- 0.3\n",
      "Fitting 5 folds for each of 40 candidates, totalling 200 fits\n",
      "best model parameters: {'logisticregression__C': 4.281332398719396, 'logisticregression__penalty': 'l1'}\n",
      "validation score: 0.7665785747994337\n",
      "test score: 0.7524509803921569\n",
      "test baseline =  0.5833333333333334\n",
      "test accuracy: 0.3 +/- 0.37\n",
      "Fitting 5 folds for each of 40 candidates, totalling 200 fits\n",
      "best model parameters: {'logisticregression__C': 0.615848211066026, 'logisticregression__penalty': 'l1'}\n",
      "validation score: 0.7604322793770646\n",
      "test score: 0.7647058823529411\n",
      "test baseline =  0.6200980392156863\n",
      "test accuracy: 0.46 +/- 0.37\n",
      "Fitting 5 folds for each of 40 candidates, totalling 200 fits\n",
      "best model parameters: {'logisticregression__C': 78.47599703514607, 'logisticregression__penalty': 'l1'}\n",
      "validation score: 0.7555412930627655\n",
      "test score: 0.7671568627450981\n",
      "test baseline =  0.5906862745098039\n",
      "test accuracy: 0.61 +/- 0.3\n",
      "Fitting 5 folds for each of 40 candidates, totalling 200 fits\n",
      "best model parameters: {'logisticregression__C': 11.288378916846883, 'logisticregression__penalty': 'l1'}\n",
      "validation score: 0.7708824917413875\n",
      "test score: 0.7769607843137255\n",
      "test baseline =  0.6200980392156863\n",
      "test accuracy: 0.76 +/- 0.01\n"
     ]
    }
   ],
   "source": [
    "std_ftrs = ['general_bacteria','lead','fluoride','arsenic','selenium','ammonia-like_nitrogen',\n",
    "            'nitrogen_nitrate','cadmium','phenol','diazinone','carbaryl','1_1_1-trichloroethane','tetrachloroethylene','trichloroethylene',\n",
    "            'carbon_tetrachloride','1_1-dichloroethylene','dichloromethane','toluene','Xylene','1_2-dibromo-3-chloropropane','1_4-dioxane.','residual_goat',\n",
    "            'total_trihalomethane','chloroform','bromodichloromethane','chloral_hydrate','dibromoacetonitrile','dichloroacetonitrile','trichloroacetonitrile',\n",
    "            'haloacetic_seed','formaldehyde','Bronze','chromaticity','detergent','pH','zinc','chloride_ion','Fe','Mn',\n",
    "            'turbidity','sulfate_ion','potasium_permanganate_consumption','aluminum']\n",
    "\n",
    "preprocessor = ColumnTransformer(transformers=[('std', StandardScaler(), std_ftrs)])\n",
    "\n",
    "param_grid= {  \n",
    "'logisticregression__penalty': ['l1','l2'],'logisticregression__C': np.logspace(-4, 4, 20)\n",
    "}\n",
    "\n",
    "test_scores = np.zeros(5)\n",
    "final_models = []\n",
    "\n",
    "for i in range(5):\n",
    "    X_other, X_test, y_other, y_test = train_test_split(X,y,test_size = 0.2,random_state=47*i) # seperate test set and other\n",
    "\n",
    "    # splitter for other\n",
    "    kf = KFold(n_splits=5,shuffle=True,random_state=47 * i)\n",
    "\n",
    "    # the classifier\n",
    "    clf = LogisticRegression(solver='saga',max_iter=10000,random_state = 47*i) # initialize the classifier\n",
    "    pipe = make_pipeline(preprocessor,clf)\n",
    "\n",
    "    # prepare the gridsearch it will loops through all parameter combinations and collects the results \n",
    "    \n",
    "    grid = GridSearchCV(pipe, param_grid=param_grid,scoring = 'accuracy',\n",
    "                        cv=kf, return_train_score = True, n_jobs=-1, verbose=True)\n",
    "    \n",
    "    # fits the model on other\n",
    "    grid.fit(X_other, y_other)\n",
    "    \n",
    "    # save results into a data frame.\n",
    "    results = pd.DataFrame(grid.cv_results_)\n",
    "    #print(results)\n",
    "\n",
    "    print('best model parameters:',grid.best_params_)\n",
    "    print('validation score:',grid.best_score_) # this is the mean validation score over all iterations\n",
    "    # save the model\n",
    "    final_models.append(grid)\n",
    "    \n",
    "    # print out and save the test score, baseline accuracy, std \n",
    "    y_test_pred = final_models[-1].predict(X_test)\n",
    "    test_scores[i] = accuracy_score(y_test,y_test_pred)\n",
    "    print('test score:',test_scores[i])\n",
    "    print('test baseline = ',np.sum(y_test == 1)/len(y_test))\n",
    "    print('test accuracy:',np.around(np.mean(test_scores),2),'+/-',np.around(np.std(test_scores),2))\n",
    "    \n",
    "    #save the files\n",
    "    fname = r'C:\\Users\\ASUS Zephyrus G15\\DATA1030-Fall2021\\data 1030 project\\results\\LR'+str(i)+'.lasso'\n",
    "    file = open(fname, 'wb')\n",
    "    pickle.dump((grid,X_test,y_test),file)\n",
    "    file.close()\n",
    "    "
   ]
  },
  {
   "cell_type": "markdown",
   "id": "3c7b76b5-44d4-429d-8ca8-ca58e94320ce",
   "metadata": {},
   "source": [
    "### Create Confusion Martix and ROC curve"
   ]
  },
  {
   "cell_type": "code",
   "execution_count": 5,
   "id": "379bb72b-d4b6-46b8-a2d4-f22bcd54d177",
   "metadata": {},
   "outputs": [
    {
     "name": "stdout",
     "output_type": "stream",
     "text": [
      "[[102  53]\n",
      " [ 38 215]]\n"
     ]
    }
   ],
   "source": [
    "from sklearn.metrics import confusion_matrix\n",
    "\n",
    "y_true = y_test\n",
    "y_preds = y_preds = grid.predict(X_test)\n",
    "                                         \n",
    "print(confusion_matrix(y_true,y_preds))"
   ]
  },
  {
   "cell_type": "code",
   "execution_count": 6,
   "id": "e7f61dd8-2c44-48a6-8a1a-a703d53a58b6",
   "metadata": {},
   "outputs": [
    {
     "data": {
      "image/png": "[encoded data removed]",
      "text/plain": [
       "<Figure size 432x288 with 1 Axes>"
      ]
     },
     "metadata": {
      "needs_background": "light"
     },
     "output_type": "display_data"
    }
   ],
   "source": [
    "roc = plot_roc_curve(grid, X_test, y_test)\n",
    "plt.savefig(r'C:\\Users\\ASUS Zephyrus G15\\DATA1030-Fall2021\\data 1030 project\\figures\\LR_ROC_curve.png',dpi = 300)"
   ]
  },
  {
   "cell_type": "code",
   "execution_count": 10,
   "id": "d91b07c8-fdbc-48eb-92c5-a85884d88bc4",
   "metadata": {},
   "outputs": [],
   "source": [
    "from sklearn.utils.multiclass import unique_labels\n",
    "\n",
    "def plot_confusion_matrix(y_true, y_pred, classes,\n",
    "                          normalize=True,\n",
    "                          title=None,\n",
    "                          cmap=plt.cm.Blues):\n",
    "    \"\"\"\n",
    "    This function prints and plots the confusion matrix.\n",
    "    Normalization can be applied by setting `normalize=True`.\n",
    "    \"\"\"\n",
    "    if not title:\n",
    "        if normalize:\n",
    "            title = 'Normalized confusion matrix'\n",
    "        else:\n",
    "            title = 'Confusion matrix, without normalization'\n",
    "\n",
    "    # Compute confusion matrix\n",
    "    cm = confusion_matrix(y_true, y_pred)\n",
    "    # Only use the labels that appear in the data\n",
    "    classes = np.array(classes)\n",
    "    #classes = classes[unique_labels(y_true, y_pred)]\n",
    "    if normalize:\n",
    "        cm = cm.astype('float') / cm.sum(axis=1)[:, np.newaxis]\n",
    "        \n",
    "    fig, ax = plt.subplots()\n",
    "    im = ax.imshow(cm, interpolation='nearest', cmap=cmap)\n",
    "    ax.figure.colorbar(im, ax=ax)\n",
    "    # We want to show all ticks...\n",
    "    ax.set(xticks=np.arange(cm.shape[1]),\n",
    "           yticks=np.arange(cm.shape[0]),\n",
    "           # ... and label them with the respective list entries\n",
    "           xticklabels=classes, yticklabels=classes,\n",
    "           title=title,\n",
    "           ylabel='True label',\n",
    "           xlabel='Predicted label')\n",
    "\n",
    "    # Rotate the tick labels and set their alignment.\n",
    "    plt.setp(ax.get_xticklabels(), rotation=45, ha=\"right\",\n",
    "             rotation_mode=\"anchor\")\n",
    "\n",
    "    # Loop over data dimensions and create text annotations.\n",
    "    fmt = '.2f' if normalize else 'd'\n",
    "    thresh = cm.max() / 2.\n",
    "    for i in range(cm.shape[0]):\n",
    "        for j in range(cm.shape[1]):\n",
    "            ax.text(j, i, format(cm[i, j], fmt),\n",
    "                    ha=\"center\", va=\"center\",\n",
    "                    color=\"white\" if cm[i, j] > thresh else \"black\")\n",
    "    fig.tight_layout()\n",
    "    return ax"
   ]
  },
  {
   "cell_type": "code",
   "execution_count": 12,
   "id": "06d48dc1-b2ec-4841-9002-ca2e58bb6533",
   "metadata": {},
   "outputs": [
    {
     "data": {
      "image/png": "[encoded data removed]",
      "text/plain": [
       "<Figure size 432x288 with 2 Axes>"
      ]
     },
     "metadata": {
      "needs_background": "light"
     },
     "output_type": "display_data"
    }
   ],
   "source": [
    "plot_confusion_matrix(y_true,y_preds,classes=['potable','Not potable'])\n",
    "plt.tight_layout()\n",
    "plt.savefig(r'C:\\Users\\ASUS Zephyrus G15\\DATA1030-Fall2021\\data 1030 project\\figures\\LR_Confusion_matrix',dpi = 300)\n",
    "plt.show()"
   ]
  },
  {
   "cell_type": "code",
   "execution_count": 13,
   "id": "24c3b35b-afb1-4172-847e-f41fd58fd6d4",
   "metadata": {},
   "outputs": [
    {
     "name": "stdout",
     "output_type": "stream",
     "text": [
      "              precision    recall  f1-score   support\n",
      "\n",
      "           0       0.73      0.66      0.69       155\n",
      "           1       0.80      0.85      0.83       253\n",
      "\n",
      "    accuracy                           0.78       408\n",
      "   macro avg       0.77      0.75      0.76       408\n",
      "weighted avg       0.77      0.78      0.77       408\n",
      "\n"
     ]
    }
   ],
   "source": [
    "print(classification_report(y_test, y_preds))"
   ]
  },
  {
   "cell_type": "code",
   "execution_count": 17,
   "id": "20558b0a-0a76-4085-8bb1-b7cc906c12cc",
   "metadata": {},
   "outputs": [
    {
     "data": {
      "text/plain": [
       "0.47227027821605977"
      ]
     },
     "execution_count": 17,
     "metadata": {},
     "output_type": "execute_result"
    }
   ],
   "source": [
    "np.sqrt(mean_squared_error(y_true,y_preds))"
   ]
  },
  {
   "cell_type": "markdown",
   "id": "b8a53066-71fa-40e3-a02f-cb5f7773066f",
   "metadata": {},
   "source": [
    "### Semi AutoML version of Parameter tunning did not worked properly"
   ]
  },
  {
   "cell_type": "code",
   "execution_count": 37,
   "id": "516ad2c0-a90e-4d85-8735-3b910ab57ad9",
   "metadata": {},
   "outputs": [],
   "source": [
    "accuracy_scores =  {}"
   ]
  },
  {
   "cell_type": "code",
   "execution_count": 48,
   "id": "2e9e87b7-7a5f-4586-9581-d86a53da7cc9",
   "metadata": {},
   "outputs": [
    {
     "name": "stdout",
     "output_type": "stream",
     "text": [
      "\n",
      "          \n",
      "██╗░░░░░██╗░░░██╗░█████╗░██╗███████╗███████╗██████╗░░░░░░░███╗░░░███╗██╗░░░░░\n",
      "██║░░░░░██║░░░██║██╔══██╗██║██╔════╝██╔════╝██╔══██╗░░░░░░████╗░████║██║░░░░░\n",
      "██║░░░░░██║░░░██║██║░░╚═╝██║█████╗░░█████╗░░██████╔╝█████╗██╔████╔██║██║░░░░░\n",
      "██║░░░░░██║░░░██║██║░░██╗██║██╔══╝░░██╔══╝░░██╔══██╗╚════╝██║╚██╔╝██║██║░░░░░\n",
      "███████╗╚██████╔╝╚█████╔╝██║██║░░░░░███████╗██║░░██║░░░░░░██║░╚═╝░██║███████╗\n",
      "╚══════╝░╚═════╝░░╚════╝░╚═╝╚═╝░░░░░╚══════╝╚═╝░░╚═╝░░░░░░╚═╝░░░░░╚═╝╚══════╝\n",
      "\n",
      "Started LuciferML \n",
      "\n",
      "Checking if labels or features are categorical! [*]\n",
      "\n",
      "Features are not categorical [ ✓ ]\n",
      "\n",
      "Labels are not categorical [ ✓ ]\n",
      "\n",
      "Checking for Categorical Variables Done [ ✓ ]\n",
      "\n",
      "Checking for Sparse Matrix [*]\n",
      "\n",
      "Checking for Sparse Matrix Done [ ✓ ]\n",
      "\n",
      "Applying SMOTE [*]\n",
      "\n",
      "SMOTE Done [ ✓ ]\n",
      "\n",
      "Splitting Data into Train and Validation Sets [*]\n",
      "\n",
      "Splitting Done [ ✓ ]\n",
      "\n",
      "Scaling Training and Test Sets [*]\n",
      "\n",
      "Scaling Done [ ✓ ]\n",
      "\n",
      "Training Logistic Regression on Training Set [*]\n",
      "\n",
      "Model Training Done [ ✓ ]\n",
      "\n",
      "Predicting Data [*]\n",
      "\n",
      "Data Prediction Done [ ✓ ]\n",
      "\n",
      "Making Confusion Matrix [*]\n"
     ]
    },
    {
     "data": {
      "image/png": "[encoded data removed]",
      "text/plain": [
       "<Figure size 432x288 with 2 Axes>"
      ]
     },
     "metadata": {
      "needs_background": "light"
     },
     "output_type": "display_data"
    },
    {
     "name": "stdout",
     "output_type": "stream",
     "text": [
      "Confusion Matrix Done [ ✓ ]\n",
      "\n",
      "Evaluating Model Performance [*]\n",
      "Validation Accuracy is : 0.7026476578411406\n",
      "Evaluating Model Performance [ ✓ ]\n",
      "\n",
      "Applying K-Fold Cross Validation [*]\n",
      "Accuracy: 69.86 %\n",
      "Standard Deviation: 3.38 %\n",
      "K-Fold Cross Validation [ ✓ ]\n",
      "\n",
      "Complete [ ✓ ]\n",
      "\n",
      "Time Elapsed :  0.24102163314819336 seconds \n",
      "\n"
     ]
    }
   ],
   "source": [
    "params = {'C': 0.00026366508987303583, 'penalty': 'l2', 'solver': 'newton-cg'}\n",
    "\n",
    "classifier =  Classification(predictor = 'lr',params=params, smote = 'y')\n",
    "classifier.fit(X, y)\n",
    "result = classifier.result()\n",
    "accuracy_scores[result['Classifier']] = result['Accuracy']"
   ]
  },
  {
   "cell_type": "code",
   "execution_count": 45,
   "id": "42ae8e9b-28f3-440d-bc63-5e4b5cb7ab8b",
   "metadata": {},
   "outputs": [
    {
     "data": {
      "text/plain": [
       "{'Logistic Regression': 70.27064125142444}"
      ]
     },
     "execution_count": 45,
     "metadata": {},
     "output_type": "execute_result"
    }
   ],
   "source": [
    "accuracy_scores"
   ]
  }
 ],
 "metadata": {
  "kernelspec": {
   "display_name": "Python 3 (ipykernel)",
   "language": "python",
   "name": "python3"
  },
  "language_info": {
   "codemirror_mode": {
    "name": "ipython",
    "version": 3
   },
   "file_extension": ".py",
   "mimetype": "text/x-python",
   "name": "python",
   "nbconvert_exporter": "python",
   "pygments_lexer": "ipython3",
   "version": "3.9.7"
  }
 },
 "nbformat": 4,
 "nbformat_minor": 5
}
